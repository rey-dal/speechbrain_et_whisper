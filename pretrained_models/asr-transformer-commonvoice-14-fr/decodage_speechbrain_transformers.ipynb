{
 "cells": [
  {
   "cell_type": "markdown",
   "metadata": {},
   "source": [
    "model > asr-transformer-commonvoice-14-fr"
   ]
  },
  {
   "cell_type": "code",
   "execution_count": 2,
   "metadata": {},
   "outputs": [
    {
     "name": "stdout",
     "output_type": "stream",
     "text": [
      "Requirement already satisfied: speechbrain in c:\\users\\ananb\\appdata\\local\\programs\\python\\python312\\lib\\site-packages (1.0.2)\n",
      "Requirement already satisfied: hyperpyyaml in c:\\users\\ananb\\appdata\\local\\programs\\python\\python312\\lib\\site-packages (from speechbrain) (1.2.2)\n",
      "Requirement already satisfied: joblib in c:\\users\\ananb\\appdata\\local\\programs\\python\\python312\\lib\\site-packages (from speechbrain) (1.4.2)\n",
      "Requirement already satisfied: numpy in c:\\users\\ananb\\appdata\\local\\programs\\python\\python312\\lib\\site-packages (from speechbrain) (1.26.4)\n",
      "Requirement already satisfied: packaging in c:\\users\\ananb\\appdata\\roaming\\python\\python312\\site-packages (from speechbrain) (24.1)\n",
      "Requirement already satisfied: scipy in c:\\users\\ananb\\appdata\\local\\programs\\python\\python312\\lib\\site-packages (from speechbrain) (1.14.1)\n",
      "Requirement already satisfied: sentencepiece in c:\\users\\ananb\\appdata\\local\\programs\\python\\python312\\lib\\site-packages (from speechbrain) (0.2.0)\n",
      "Requirement already satisfied: torch>=1.9 in c:\\users\\ananb\\appdata\\local\\programs\\python\\python312\\lib\\site-packages (from speechbrain) (2.5.1)\n",
      "Requirement already satisfied: torchaudio in c:\\users\\ananb\\appdata\\local\\programs\\python\\python312\\lib\\site-packages (from speechbrain) (2.5.1)\n",
      "Requirement already satisfied: tqdm in c:\\users\\ananb\\appdata\\local\\programs\\python\\python312\\lib\\site-packages (from speechbrain) (4.66.5)\n",
      "Requirement already satisfied: huggingface-hub in c:\\users\\ananb\\appdata\\local\\programs\\python\\python312\\lib\\site-packages (from speechbrain) (0.25.2)\n",
      "Requirement already satisfied: filelock in c:\\users\\ananb\\appdata\\local\\programs\\python\\python312\\lib\\site-packages (from torch>=1.9->speechbrain) (3.16.1)\n",
      "Requirement already satisfied: typing-extensions>=4.8.0 in c:\\users\\ananb\\appdata\\local\\programs\\python\\python312\\lib\\site-packages (from torch>=1.9->speechbrain) (4.12.2)\n",
      "Requirement already satisfied: networkx in c:\\users\\ananb\\appdata\\local\\programs\\python\\python312\\lib\\site-packages (from torch>=1.9->speechbrain) (3.4.1)\n",
      "Requirement already satisfied: jinja2 in c:\\users\\ananb\\appdata\\local\\programs\\python\\python312\\lib\\site-packages (from torch>=1.9->speechbrain) (3.1.4)\n",
      "Requirement already satisfied: fsspec in c:\\users\\ananb\\appdata\\local\\programs\\python\\python312\\lib\\site-packages (from torch>=1.9->speechbrain) (2024.6.1)\n",
      "Requirement already satisfied: setuptools in c:\\users\\ananb\\appdata\\local\\programs\\python\\python312\\lib\\site-packages (from torch>=1.9->speechbrain) (75.1.0)\n",
      "Requirement already satisfied: sympy==1.13.1 in c:\\users\\ananb\\appdata\\local\\programs\\python\\python312\\lib\\site-packages (from torch>=1.9->speechbrain) (1.13.1)\n",
      "Requirement already satisfied: mpmath<1.4,>=1.1.0 in c:\\users\\ananb\\appdata\\local\\programs\\python\\python312\\lib\\site-packages (from sympy==1.13.1->torch>=1.9->speechbrain) (1.3.0)\n",
      "Requirement already satisfied: pyyaml>=5.1 in c:\\users\\ananb\\appdata\\local\\programs\\python\\python312\\lib\\site-packages (from huggingface-hub->speechbrain) (6.0.2)\n",
      "Requirement already satisfied: requests in c:\\users\\ananb\\appdata\\local\\programs\\python\\python312\\lib\\site-packages (from huggingface-hub->speechbrain) (2.32.3)\n",
      "Requirement already satisfied: colorama in c:\\users\\ananb\\appdata\\local\\programs\\python\\python312\\lib\\site-packages (from tqdm->speechbrain) (0.4.6)\n",
      "Requirement already satisfied: ruamel.yaml>=0.17.28 in c:\\users\\ananb\\appdata\\local\\programs\\python\\python312\\lib\\site-packages (from hyperpyyaml->speechbrain) (0.18.6)\n",
      "Requirement already satisfied: ruamel.yaml.clib>=0.2.7 in c:\\users\\ananb\\appdata\\local\\programs\\python\\python312\\lib\\site-packages (from ruamel.yaml>=0.17.28->hyperpyyaml->speechbrain) (0.2.12)\n",
      "Requirement already satisfied: MarkupSafe>=2.0 in c:\\users\\ananb\\appdata\\local\\programs\\python\\python312\\lib\\site-packages (from jinja2->torch>=1.9->speechbrain) (2.1.5)\n",
      "Requirement already satisfied: charset-normalizer<4,>=2 in c:\\users\\ananb\\appdata\\local\\programs\\python\\python312\\lib\\site-packages (from requests->huggingface-hub->speechbrain) (3.3.2)\n",
      "Requirement already satisfied: idna<4,>=2.5 in c:\\users\\ananb\\appdata\\local\\programs\\python\\python312\\lib\\site-packages (from requests->huggingface-hub->speechbrain) (3.10)\n",
      "Requirement already satisfied: urllib3<3,>=1.21.1 in c:\\users\\ananb\\appdata\\local\\programs\\python\\python312\\lib\\site-packages (from requests->huggingface-hub->speechbrain) (2.2.3)\n",
      "Requirement already satisfied: certifi>=2017.4.17 in c:\\users\\ananb\\appdata\\local\\programs\\python\\python312\\lib\\site-packages (from requests->huggingface-hub->speechbrain) (2024.8.30)\n"
     ]
    },
    {
     "name": "stderr",
     "output_type": "stream",
     "text": [
      "WARNING: Ignoring invalid distribution ~orch (C:\\Users\\ananb\\AppData\\Local\\Programs\\Python\\Python312\\Lib\\site-packages)\n",
      "WARNING: Ignoring invalid distribution ~ympy (C:\\Users\\ananb\\AppData\\Local\\Programs\\Python\\Python312\\Lib\\site-packages)\n",
      "WARNING: Ignoring invalid distribution ~orch (C:\\Users\\ananb\\AppData\\Local\\Programs\\Python\\Python312\\Lib\\site-packages)\n",
      "WARNING: Ignoring invalid distribution ~ympy (C:\\Users\\ananb\\AppData\\Local\\Programs\\Python\\Python312\\Lib\\site-packages)\n",
      "WARNING: Ignoring invalid distribution ~orch (C:\\Users\\ananb\\AppData\\Local\\Programs\\Python\\Python312\\Lib\\site-packages)\n",
      "WARNING: Ignoring invalid distribution ~ympy (C:\\Users\\ananb\\AppData\\Local\\Programs\\Python\\Python312\\Lib\\site-packages)\n"
     ]
    }
   ],
   "source": [
    "!pip install speechbrain"
   ]
  },
  {
   "cell_type": "code",
   "execution_count": 1,
   "metadata": {},
   "outputs": [
    {
     "name": "stderr",
     "output_type": "stream",
     "text": [
      "INFO:speechbrain.utils.quirks:Applied quirks (see `speechbrain.utils.quirks`): [disable_jit_profiling, allow_tf32]\n",
      "INFO:speechbrain.utils.quirks:Excluded quirks specified by the `SB_DISABLE_QUIRKS` environment (comma-separated list): []\n",
      "INFO:speechbrain.utils.fetching:Fetch hyperparams.yaml: Fetching from HuggingFace Hub 'speechbrain/asr-transformer-commonvoice-14-fr' if not cached\n",
      "c:\\Users\\ananb\\AppData\\Local\\Programs\\Python\\Python312\\Lib\\site-packages\\speechbrain\\utils\\fetching.py:151: UserWarning: Using SYMLINK strategy on Windows for fetching potentially requires elevated privileges and is not recommended. See `LocalStrategy` documentation.\n",
      "  warnings.warn(\n",
      "INFO:speechbrain.utils.fetching:Fetch custom.py: Fetching from HuggingFace Hub 'speechbrain/asr-transformer-commonvoice-14-fr' if not cached\n",
      "c:\\Users\\ananb\\AppData\\Local\\Programs\\Python\\Python312\\Lib\\site-packages\\speechbrain\\utils\\autocast.py:68: FutureWarning: `torch.cuda.amp.custom_fwd(args...)` is deprecated. Please use `torch.amp.custom_fwd(args..., device_type='cuda')` instead.\n",
      "  wrapped_fwd = torch.cuda.amp.custom_fwd(fwd, cast_inputs=cast_inputs)\n",
      "c:\\Users\\ananb\\AppData\\Local\\Programs\\Python\\Python312\\Lib\\inspect.py:1007: UserWarning: Module 'speechbrain.pretrained' was deprecated, redirecting to 'speechbrain.inference'. Please update your script. This is a change from SpeechBrain 1.0. See: https://github.com/speechbrain/speechbrain/releases/tag/v1.0.0\n",
      "  if ismodule(module) and hasattr(module, '__file__'):\n",
      "c:\\Users\\ananb\\AppData\\Local\\Programs\\Python\\Python312\\Lib\\site-packages\\speechbrain\\utils\\parameter_transfer.py:234: UserWarning: Requested Pretrainer collection using symlinks on Windows. This might not work; see `LocalStrategy` documentation. Consider unsetting `collect_in` in Pretrainer to avoid symlinking altogether.\n",
      "  warnings.warn(\n",
      "INFO:speechbrain.utils.fetching:Fetch normalizer.ckpt: Fetching from HuggingFace Hub 'speechbrain/asr-transformer-commonvoice-14-fr' if not cached\n"
     ]
    },
    {
     "data": {
      "application/vnd.jupyter.widget-view+json": {
       "model_id": "1e65a58d89a24e12b001b7e60e61374a",
       "version_major": 2,
       "version_minor": 0
      },
      "text/plain": [
       "normalizer.ckpt:   0%|          | 0.00/1.78k [00:00<?, ?B/s]"
      ]
     },
     "metadata": {},
     "output_type": "display_data"
    },
    {
     "name": "stderr",
     "output_type": "stream",
     "text": [
      "INFO:speechbrain.utils.fetching:Fetch asr.ckpt: Fetching from HuggingFace Hub 'speechbrain/asr-transformer-commonvoice-14-fr' if not cached\n"
     ]
    },
    {
     "data": {
      "application/vnd.jupyter.widget-view+json": {
       "model_id": "8181f1fead9b427ebe4ca78798ae77d3",
       "version_major": 2,
       "version_minor": 0
      },
      "text/plain": [
       "asr.ckpt:   0%|          | 0.00/596M [00:00<?, ?B/s]"
      ]
     },
     "metadata": {},
     "output_type": "display_data"
    },
    {
     "name": "stderr",
     "output_type": "stream",
     "text": [
      "INFO:speechbrain.utils.fetching:Fetch tokenizer.ckpt: Fetching from HuggingFace Hub 'speechbrain/asr-transformer-commonvoice-14-fr' if not cached\n"
     ]
    },
    {
     "data": {
      "application/vnd.jupyter.widget-view+json": {
       "model_id": "d2180d6b3edb405799c9c7caf9c34275",
       "version_major": 2,
       "version_minor": 0
      },
      "text/plain": [
       "tokenizer.ckpt:   0%|          | 0.00/245k [00:00<?, ?B/s]"
      ]
     },
     "metadata": {},
     "output_type": "display_data"
    },
    {
     "name": "stderr",
     "output_type": "stream",
     "text": [
      "INFO:speechbrain.utils.parameter_transfer:Loading pretrained files for: normalizer, asr, tokenizer\n",
      "c:\\Users\\ananb\\AppData\\Local\\Programs\\Python\\Python312\\Lib\\site-packages\\speechbrain\\processing\\features.py:1311: FutureWarning: You are using `torch.load` with `weights_only=False` (the current default value), which uses the default pickle module implicitly. It is possible to construct malicious pickle data which will execute arbitrary code during unpickling (See https://github.com/pytorch/pytorch/blob/main/SECURITY.md#untrusted-models for more details). In a future release, the default value for `weights_only` will be flipped to `True`. This limits the functions that could be executed during unpickling. Arbitrary objects will no longer be allowed to be loaded via this mode unless they are explicitly allowlisted by the user via `torch.serialization.add_safe_globals`. We recommend you start setting `weights_only=True` for any use case where you don't have full control of the loaded file. Please open an issue on GitHub for any issues related to this experimental feature.\n",
      "  stats = torch.load(path, map_location=device)\n",
      "c:\\Users\\ananb\\AppData\\Local\\Programs\\Python\\Python312\\Lib\\site-packages\\speechbrain\\utils\\checkpoints.py:200: FutureWarning: You are using `torch.load` with `weights_only=False` (the current default value), which uses the default pickle module implicitly. It is possible to construct malicious pickle data which will execute arbitrary code during unpickling (See https://github.com/pytorch/pytorch/blob/main/SECURITY.md#untrusted-models for more details). In a future release, the default value for `weights_only` will be flipped to `True`. This limits the functions that could be executed during unpickling. Arbitrary objects will no longer be allowed to be loaded via this mode unless they are explicitly allowlisted by the user via `torch.serialization.add_safe_globals`. We recommend you start setting `weights_only=True` for any use case where you don't have full control of the loaded file. Please open an issue on GitHub for any issues related to this experimental feature.\n",
      "  state_dict = torch.load(path, map_location=device)\n",
      "INFO:speechbrain.utils.checkpoints:Due to replacement compatibility rule '.mutihead_attn'->'.multihead_attn', renamed `state_dict['1.decoder.layers.0.mutihead_attn.att.in_proj_weight']`->`state_dict['1.decoder.layers.0.multihead_attn.att.in_proj_weight']`\n",
      "INFO:speechbrain.utils.checkpoints:Due to replacement compatibility rule '.mutihead_attn'->'.multihead_attn', renamed `state_dict['1.decoder.layers.0.mutihead_attn.att.in_proj_bias']`->`state_dict['1.decoder.layers.0.multihead_attn.att.in_proj_bias']`\n",
      "INFO:speechbrain.utils.checkpoints:Due to replacement compatibility rule '.mutihead_attn'->'.multihead_attn', renamed `state_dict['1.decoder.layers.0.mutihead_attn.att.out_proj.weight']`->`state_dict['1.decoder.layers.0.multihead_attn.att.out_proj.weight']`\n",
      "INFO:speechbrain.utils.checkpoints:Due to replacement compatibility rule '.mutihead_attn'->'.multihead_attn', renamed `state_dict['1.decoder.layers.0.mutihead_attn.att.out_proj.bias']`->`state_dict['1.decoder.layers.0.multihead_attn.att.out_proj.bias']`\n",
      "INFO:speechbrain.utils.checkpoints:Due to replacement compatibility rule '.mutihead_attn'->'.multihead_attn', renamed `state_dict['1.decoder.layers.1.mutihead_attn.att.in_proj_weight']`->`state_dict['1.decoder.layers.1.multihead_attn.att.in_proj_weight']`\n",
      "INFO:speechbrain.utils.checkpoints:Due to replacement compatibility rule '.mutihead_attn'->'.multihead_attn', renamed `state_dict['1.decoder.layers.1.mutihead_attn.att.in_proj_bias']`->`state_dict['1.decoder.layers.1.multihead_attn.att.in_proj_bias']`\n",
      "INFO:speechbrain.utils.checkpoints:Due to replacement compatibility rule '.mutihead_attn'->'.multihead_attn', renamed `state_dict['1.decoder.layers.1.mutihead_attn.att.out_proj.weight']`->`state_dict['1.decoder.layers.1.multihead_attn.att.out_proj.weight']`\n",
      "INFO:speechbrain.utils.checkpoints:Due to replacement compatibility rule '.mutihead_attn'->'.multihead_attn', renamed `state_dict['1.decoder.layers.1.mutihead_attn.att.out_proj.bias']`->`state_dict['1.decoder.layers.1.multihead_attn.att.out_proj.bias']`\n",
      "INFO:speechbrain.utils.checkpoints:Due to replacement compatibility rule '.mutihead_attn'->'.multihead_attn', renamed `state_dict['1.decoder.layers.2.mutihead_attn.att.in_proj_weight']`->`state_dict['1.decoder.layers.2.multihead_attn.att.in_proj_weight']`\n",
      "INFO:speechbrain.utils.checkpoints:Due to replacement compatibility rule '.mutihead_attn'->'.multihead_attn', renamed `state_dict['1.decoder.layers.2.mutihead_attn.att.in_proj_bias']`->`state_dict['1.decoder.layers.2.multihead_attn.att.in_proj_bias']`\n",
      "INFO:speechbrain.utils.checkpoints:Due to replacement compatibility rule '.mutihead_attn'->'.multihead_attn', renamed `state_dict['1.decoder.layers.2.mutihead_attn.att.out_proj.weight']`->`state_dict['1.decoder.layers.2.multihead_attn.att.out_proj.weight']`\n",
      "INFO:speechbrain.utils.checkpoints:Due to replacement compatibility rule '.mutihead_attn'->'.multihead_attn', renamed `state_dict['1.decoder.layers.2.mutihead_attn.att.out_proj.bias']`->`state_dict['1.decoder.layers.2.multihead_attn.att.out_proj.bias']`\n",
      "INFO:speechbrain.utils.checkpoints:Due to replacement compatibility rule '.mutihead_attn'->'.multihead_attn', renamed `state_dict['1.decoder.layers.3.mutihead_attn.att.in_proj_weight']`->`state_dict['1.decoder.layers.3.multihead_attn.att.in_proj_weight']`\n",
      "INFO:speechbrain.utils.checkpoints:Due to replacement compatibility rule '.mutihead_attn'->'.multihead_attn', renamed `state_dict['1.decoder.layers.3.mutihead_attn.att.in_proj_bias']`->`state_dict['1.decoder.layers.3.multihead_attn.att.in_proj_bias']`\n",
      "INFO:speechbrain.utils.checkpoints:Due to replacement compatibility rule '.mutihead_attn'->'.multihead_attn', renamed `state_dict['1.decoder.layers.3.mutihead_attn.att.out_proj.weight']`->`state_dict['1.decoder.layers.3.multihead_attn.att.out_proj.weight']`\n",
      "INFO:speechbrain.utils.checkpoints:Due to replacement compatibility rule '.mutihead_attn'->'.multihead_attn', renamed `state_dict['1.decoder.layers.3.mutihead_attn.att.out_proj.bias']`->`state_dict['1.decoder.layers.3.multihead_attn.att.out_proj.bias']`\n",
      "INFO:speechbrain.utils.checkpoints:Due to replacement compatibility rule '.mutihead_attn'->'.multihead_attn', renamed `state_dict['1.decoder.layers.4.mutihead_attn.att.in_proj_weight']`->`state_dict['1.decoder.layers.4.multihead_attn.att.in_proj_weight']`\n",
      "INFO:speechbrain.utils.checkpoints:Due to replacement compatibility rule '.mutihead_attn'->'.multihead_attn', renamed `state_dict['1.decoder.layers.4.mutihead_attn.att.in_proj_bias']`->`state_dict['1.decoder.layers.4.multihead_attn.att.in_proj_bias']`\n",
      "INFO:speechbrain.utils.checkpoints:Due to replacement compatibility rule '.mutihead_attn'->'.multihead_attn', renamed `state_dict['1.decoder.layers.4.mutihead_attn.att.out_proj.weight']`->`state_dict['1.decoder.layers.4.multihead_attn.att.out_proj.weight']`\n",
      "INFO:speechbrain.utils.checkpoints:Due to replacement compatibility rule '.mutihead_attn'->'.multihead_attn', renamed `state_dict['1.decoder.layers.4.mutihead_attn.att.out_proj.bias']`->`state_dict['1.decoder.layers.4.multihead_attn.att.out_proj.bias']`\n",
      "INFO:speechbrain.utils.checkpoints:Due to replacement compatibility rule '.mutihead_attn'->'.multihead_attn', renamed `state_dict['1.decoder.layers.5.mutihead_attn.att.in_proj_weight']`->`state_dict['1.decoder.layers.5.multihead_attn.att.in_proj_weight']`\n",
      "INFO:speechbrain.utils.checkpoints:Due to replacement compatibility rule '.mutihead_attn'->'.multihead_attn', renamed `state_dict['1.decoder.layers.5.mutihead_attn.att.in_proj_bias']`->`state_dict['1.decoder.layers.5.multihead_attn.att.in_proj_bias']`\n",
      "INFO:speechbrain.utils.checkpoints:Due to replacement compatibility rule '.mutihead_attn'->'.multihead_attn', renamed `state_dict['1.decoder.layers.5.mutihead_attn.att.out_proj.weight']`->`state_dict['1.decoder.layers.5.multihead_attn.att.out_proj.weight']`\n",
      "INFO:speechbrain.utils.checkpoints:Due to replacement compatibility rule '.mutihead_attn'->'.multihead_attn', renamed `state_dict['1.decoder.layers.5.mutihead_attn.att.out_proj.bias']`->`state_dict['1.decoder.layers.5.multihead_attn.att.out_proj.bias']`\n",
      "INFO:speechbrain.utils.fetching:Fetch example-fr.wav: Fetching from HuggingFace Hub 'speechbrain/asr-transformer-commonvoice-14-fr' if not cached\n"
     ]
    },
    {
     "data": {
      "application/vnd.jupyter.widget-view+json": {
       "model_id": "a2d998f2554e4ab9bf4d05e1e585d7fd",
       "version_major": 2,
       "version_minor": 0
      },
      "text/plain": [
       "example-fr.wav:   0%|          | 0.00/227k [00:00<?, ?B/s]"
      ]
     },
     "metadata": {},
     "output_type": "display_data"
    },
    {
     "data": {
      "text/plain": [
       "'MON CHIEN EST LE PLUS BEAU '"
      ]
     },
     "execution_count": 1,
     "metadata": {},
     "output_type": "execute_result"
    }
   ],
   "source": [
    "from speechbrain.inference.ASR import EncoderDecoderASR\n",
    "asr_model = EncoderDecoderASR.from_hparams(source=\"speechbrain/asr-transformer-commonvoice-14-fr\", savedir=\"pretrained_models/asr-transformer-commonvoice-14-fr\")\n",
    "asr_model.transcribe_file(\"speechbrain/asr-transformer-commonvoice-14-fr/example-fr.wav\")"
   ]
  },
  {
   "cell_type": "markdown",
   "metadata": {},
   "source": [
    "local file commonvoice fr"
   ]
  },
  {
   "cell_type": "code",
   "execution_count": 2,
   "metadata": {},
   "outputs": [
    {
     "data": {
      "text/plain": [
       "'QUEL VIN DÉSIRE MONSIEUR '"
      ]
     },
     "execution_count": 2,
     "metadata": {},
     "output_type": "execute_result"
    }
   ],
   "source": [
    "asr_model.transcribe_file(\"fr/clips/common_voice_fr_40863441.mp3\")"
   ]
  },
  {
   "cell_type": "markdown",
   "metadata": {},
   "source": [
    "train from scratch > https://huggingface.co/speechbrain/asr-transformer-commonvoice-14-fr\n",
    "\n",
    "WER"
   ]
  },
  {
   "cell_type": "code",
   "execution_count": 1,
   "metadata": {},
   "outputs": [
    {
     "name": "stderr",
     "output_type": "stream",
     "text": [
      "INFO:speechbrain.utils.quirks:Applied quirks (see `speechbrain.utils.quirks`): [disable_jit_profiling, allow_tf32]\n",
      "INFO:speechbrain.utils.quirks:Excluded quirks specified by the `SB_DISABLE_QUIRKS` environment (comma-separated list): []\n"
     ]
    }
   ],
   "source": [
    "from speechbrain.utils.edit_distance import accumulatable_wer_stats\n",
    "\n",
    "def compute_wer(references, hypotheses):\n",
    "    if isinstance(references, str):\n",
    "        references = [references.split()]\n",
    "    else:\n",
    "        references = [ref.split() for ref in references]\n",
    "    if isinstance(hypotheses, str):\n",
    "        hypotheses = [hypotheses.split()]\n",
    "    else:\n",
    "        hypotheses = [hyp.split() for hyp in hypotheses]\n",
    "    if len(references) != len(hypotheses):\n",
    "        raise Exception(\"Number of references is not equal to the number of hypotheses\")\n",
    "    stats = accumulatable_wer_stats(references, hypotheses, Counter())\n",
    "    return stats['WER']"
   ]
  }
 ],
 "metadata": {
  "kernelspec": {
   "display_name": "Python 3",
   "language": "python",
   "name": "python3"
  },
  "language_info": {
   "codemirror_mode": {
    "name": "ipython",
    "version": 3
   },
   "file_extension": ".py",
   "mimetype": "text/x-python",
   "name": "python",
   "nbconvert_exporter": "python",
   "pygments_lexer": "ipython3",
   "version": "3.12.6"
  }
 },
 "nbformat": 4,
 "nbformat_minor": 2
}
